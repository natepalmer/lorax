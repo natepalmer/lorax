{
 "cells": [
  {
   "cell_type": "code",
   "execution_count": 171,
   "id": "dedicated-disease",
   "metadata": {},
   "outputs": [],
   "source": [
    "# Analyze nanopore read distributions\n",
    "# -- total number of reads for the run, and number of mapped reads.\n",
    "# -- distribution of read counts.\n",
    "# -- how many unique library elements observed, and any major skew in theoretical vs. observed distribution.\n",
    "# -- plot of #of reads vs. #of mutations (theoretical vs. observed)\n",
    "\n",
    "with open(\"c9r2-ins.csv\") as read_file:\n",
    "    reads = [x.strip().split(\",\") for x in read_file.readlines()]"
   ]
  },
  {
   "cell_type": "code",
   "execution_count": 177,
   "id": "otherwise-hardware",
   "metadata": {},
   "outputs": [],
   "source": [
    "# round 1\n",
    "cas9_mutations = [(\"CCG\", \"CTC\"),\n",
    "                  (\"CTG\", \"TGC\"),\n",
    "                  (\"TAC\", \"CAG\"),\n",
    "                  (\"AGC\", \"CAT\", \"TGT\"),\n",
    "                  (\"AGC\", \"TGT\"),\n",
    "                  (\"TTT\", \"ACC\"),\n",
    "                  (\"CTG\", \"ACC\", \"GGA\"),\n",
    "                  (\"CTT\", \"GGA\"),\n",
    "                  (\"CTT\", \"CAG\"),\n",
    "                  (\"TTG\", \"GAC\"),\n",
    "                  (\"TTT\", \"GCC\"),\n",
    "                  (\"CTT\", \"CCC\", \"GGA\"),\n",
    "                  (\"CTG\", \"GAC\"),\n",
    "                  (\"TAC\", \"AAG\", \"GGA\"),\n",
    "                  (\"CTC\", \"GGA\"),\n",
    "                  (\"ATA\", \"CAG\"),\n",
    "                  (\"CTC\", \"GCT\", \"GAG\"),\n",
    "                  (\"TAC\", \"CAG\")\n",
    "                  ]\n",
    "# round 2\n",
    "cas9_mutations = [(\"ACC\", \"AAT\", \"GGA\"),\n",
    "                  (\"ACC\", \"CGG\"),\n",
    "                  (\"ATG\", \"CCC\"),\n",
    "                  (\"CTG\", \"GCC\", \"GGA\"),\n",
    "                  (\"AGC\", \"TGT\"),\n",
    "                  (\"TAC\", \"GAT\"),\n",
    "                  (\"ACC\", \"GAG\"),\n",
    "                  (\"TTC\", \"AAT\", \"ACA\"),\n",
    "                  (\"CGG\", \"GAA\"),\n",
    "                  (\"ATC\", \"GAC\"),\n",
    "                  (\"CAG\", \"AGA\"),\n",
    "                  (\"ATG\", \"GAC\", \"CGC\"),\n",
    "                  (\"TAC\", \"GAA\"),\n",
    "                  (\"TAC\", \"GAA\"),\n",
    "                  (\"GTG\", \"AGC\"),\n",
    "                  (\"GTG\", \"AAA\"),\n",
    "                  (\"GTG\", \"GAA\"),\n",
    "                  (\"CTG\", \"AAT\"),\n",
    "                  (\"CTG\", \"AAA\")]\n",
    "\n",
    "cas9_mutations_flipped_3 = [(\"AAT\", \"GGA\", \"ACC\"),\n",
    "                          (\"CGG\", \"ACC\"),\n",
    "                          (\"CCC\", \"ATG\"),\n",
    "                          (\"CTG\", \"GCC\", \"GGA\"),\n",
    "                          (\"AGC\", \"TGT\"),\n",
    "                          (\"TAC\", \"GAT\"),\n",
    "                          (\"ACC\", \"GAG\"),\n",
    "                          (\"TTC\", \"AAT\", \"ACA\"),\n",
    "                          (\"CGG\", \"GAA\"),\n",
    "                          (\"ATC\", \"GAC\"),\n",
    "                          (\"CAG\", \"AGA\"),\n",
    "                          (\"ATG\", \"GAC\", \"CGC\"),\n",
    "                          (\"TAC\", \"GAA\"),\n",
    "                          (\"TAC\", \"GAA\"),\n",
    "                          (\"GTG\", \"AGC\"),\n",
    "                          (\"GTG\", \"AAA\"),\n",
    "                          (\"GTG\", \"GAA\"),\n",
    "                          (\"CTG\", \"AAT\"),\n",
    "                          (\"CTG\", \"AAA\")]\n",
    "\n",
    "#cas9_mutations = cas9_mutations_flipped_3"
   ]
  },
  {
   "cell_type": "code",
   "execution_count": 178,
   "id": "detected-bermuda",
   "metadata": {},
   "outputs": [
    {
     "data": {
      "text/plain": [
       "23979"
      ]
     },
     "execution_count": 178,
     "metadata": {},
     "output_type": "execute_result"
    }
   ],
   "source": [
    "unique_reads = set()\n",
    "for r in reads:\n",
    "    unique_reads.add(r[0])\n",
    "len(unique_reads)"
   ]
  },
  {
   "cell_type": "code",
   "execution_count": 179,
   "id": "certain-shark",
   "metadata": {},
   "outputs": [
    {
     "data": {
      "text/plain": [
       "1492992"
      ]
     },
     "execution_count": 179,
     "metadata": {},
     "output_type": "execute_result"
    }
   ],
   "source": [
    "from itertools import product as iter_product\n",
    "from random import randint\n",
    "from collections import Counter\n",
    "\n",
    "element_counts = {item: 0 for item in iter_product(*(range(len(i)) for i in cas9_mutations))}\n",
    "        # Remove library elements with double mutant at position 8/9\n",
    "for key in list(element_counts.keys()):\n",
    "    #if key[7] == 1 and key[8] == 1:\n",
    "    #    del element_counts[key]\n",
    "    \n",
    "    if key[4] == 1 and key[5] == 1:\n",
    "        del element_counts[key]\n",
    "    elif key[15] == 1 and key[16] == 1:\n",
    "        del element_counts[key]\n",
    "\n",
    "len(element_counts)"
   ]
  },
  {
   "cell_type": "code",
   "execution_count": 180,
   "id": "portable-kitchen",
   "metadata": {},
   "outputs": [],
   "source": [
    "def calc_distances(codon, mutations):\n",
    "    distances = []\n",
    "    for item in mutations:\n",
    "        score = 0\n",
    "        for i, letter in enumerate(codon):\n",
    "            if letter not in \"ATGC\":\n",
    "                pass\n",
    "            elif letter == item[i]:\n",
    "                score += 1\n",
    "            elif letter != item[i]:\n",
    "                score -= 1\n",
    "        distances.append(score)\n",
    "    return distances"
   ]
  },
  {
   "cell_type": "code",
   "execution_count": 185,
   "id": "solar-shower",
   "metadata": {},
   "outputs": [],
   "source": [
    "gaps = list()\n",
    "ambi = list()\n",
    "good = list()\n",
    "names = list()\n",
    "unknown = dict()\n",
    "last_name = \"\"\n",
    "\n",
    "for read in reads:\n",
    "    name = read[0]\n",
    "    if name == last_name:\n",
    "        name += '-alt'\n",
    "    #names.append(name)\n",
    "    genotype = list()\n",
    "    assert len(read[1:]) == len(cas9_mutations)\n",
    "    \n",
    "    for j, codon in enumerate(read[1:]):\n",
    "        if codon in (\"\", \"---\", \"\\n\"):\n",
    "            mutation_id = '9'\n",
    "        else:\n",
    "            distances = calc_distances(codon, cas9_mutations[j])\n",
    "            if distances.count(max(distances)) == 1:  # One best match\n",
    "            #if max(distances) == 3:  # perfect match\n",
    "                mutation_id = max(range(len(distances)), key=distances.__getitem__)\n",
    "            else:  # Multiple equal scores\n",
    "                mutation_id = '8'\n",
    "        genotype.append(mutation_id)\n",
    "    \n",
    "    if genotype.count('9') == 1:\n",
    "        idx = genotype.index('9')\n",
    "        genotype[idx] = randint(0,len(cas9_mutations[idx])-1)\n",
    "    if genotype.count('8') == 1:\n",
    "        idx = genotype.index('8')\n",
    "        genotype[idx] = randint(0,len(cas9_mutations[idx])-1)\n",
    "    \n",
    "    if '9' in genotype:\n",
    "        gaps.append(genotype.count('9'))\n",
    "    elif '8' in genotype:\n",
    "        ambi.append(genotype.count('8'))\n",
    "    else:\n",
    "        try:\n",
    "            element_counts[tuple(genotype)] += 1\n",
    "            good.append(''.join(map(str,genotype)))\n",
    "        except KeyError:\n",
    "            unknown[name] = ''.join(map(str,genotype))\n",
    "    last_name = name"
   ]
  },
  {
   "cell_type": "code",
   "execution_count": 186,
   "id": "annoying-modem",
   "metadata": {},
   "outputs": [
    {
     "name": "stdout",
     "output_type": "stream",
     "text": [
      "Good: 7067, Ambiguous: 6136, Gaps: 14307,\n"
     ]
    }
   ],
   "source": [
    "print(f'Good: {len(good)}, Ambiguous: {len(ambi)+len(unknown)}, Gaps: {len(gaps)},')"
   ]
  },
  {
   "cell_type": "code",
   "execution_count": 187,
   "id": "finnish-performer",
   "metadata": {},
   "outputs": [
    {
     "data": {
      "text/plain": [
       "458463"
      ]
     },
     "execution_count": 187,
     "metadata": {},
     "output_type": "execute_result"
    }
   ],
   "source": [
    "1258775 - (304887 + 495425)"
   ]
  },
  {
   "cell_type": "code",
   "execution_count": 188,
   "id": "subject-water",
   "metadata": {},
   "outputs": [
    {
     "data": {
      "image/png": "[encoded data removed]",
      "text/plain": [
       "<Figure size 1800x1440 with 18 Axes>"
      ]
     },
     "metadata": {},
     "output_type": "display_data"
    }
   ],
   "source": [
    "from matplotlib import pyplot as plt\n",
    "\n",
    "fig, axes = plt.subplots(nrows=1, ncols=18, sharey=True, figsize=(25,20))\n",
    "\n",
    "dists = []\n",
    "\n",
    "for i in range(18):\n",
    "    dist = [0]*len(cas9_mutations[i])\n",
    "    for genotype in good:\n",
    "        if genotype != '000000000000000000':\n",
    "            dist[int(genotype[i])] += 1\n",
    "    dists.append(dist)\n",
    "    axes[i].pie(dist, autopct='%.0f%%')"
   ]
  },
  {
   "cell_type": "code",
   "execution_count": 198,
   "id": "prime-stone",
   "metadata": {},
   "outputs": [],
   "source": [
    "twos = []\n",
    "threes = []\n",
    "\n",
    "two_idx = [1,2,6,8,9,10,12,13,14,17]\n",
    "\n",
    "for i in range(len(dists)):\n",
    "    if i in two_idx:\n",
    "        twos.append(dists[i])\n",
    "    else:\n",
    "        threes.append(dists[i])"
   ]
  },
  {
   "cell_type": "code",
   "execution_count": 199,
   "id": "light-albuquerque",
   "metadata": {},
   "outputs": [],
   "source": [
    "two_props = [x[1]/(x[0]+x[1]) for x in twos]\n",
    "three_props = [x[1]/(x[0]+x[1]) for x in threes]"
   ]
  },
  {
   "cell_type": "code",
   "execution_count": 200,
   "id": "sustained-complex",
   "metadata": {},
   "outputs": [
    {
     "name": "stdout",
     "output_type": "stream",
     "text": [
      "0.49356162445167684 0.4158778838837499\n"
     ]
    }
   ],
   "source": [
    "import numpy as np\n",
    "print(np.mean(two_props), np.mean(three_props))"
   ]
  },
  {
   "cell_type": "code",
   "execution_count": 189,
   "id": "curious-director",
   "metadata": {},
   "outputs": [
    {
     "name": "stdout",
     "output_type": "stream",
     "text": [
      "7042\n"
     ]
    },
    {
     "data": {
      "text/plain": [
       "[('2110011211011000100', 2),\n",
       " ('2110001001021010001', 2),\n",
       " ('1011011210010100010', 2),\n",
       " ('2010100210021110111', 2),\n",
       " ('1001011011001101001', 2),\n",
       " ('0010000111011111001', 2),\n",
       " ('0112000200011010010', 2),\n",
       " ('2111011010011011000', 2),\n",
       " ('0110000211121100110', 2),\n",
       " ('2110011211100000111', 2),\n",
       " ('0102011011100111000', 2),\n",
       " ('0012101001021110110', 2),\n",
       " ('1101100211010011010', 2),\n",
       " ('0000000000121100010', 2),\n",
       " ('2010100200001101011', 2),\n",
       " ('1012011201010010010', 2),\n",
       " ('2111100110020000101', 2),\n",
       " ('1011010010121100101', 2),\n",
       " ('0012011100001111010', 2),\n",
       " ('2101100110020001000', 2),\n",
       " ('0012010010021100000', 2),\n",
       " ('0101011110011000111', 2),\n",
       " ('2112000211020011000', 2),\n",
       " ('2001000100110000000', 2),\n",
       " ('2110010011021001000', 2),\n",
       " ('2001011211021100001', 1),\n",
       " ('1011100011011001011', 1),\n",
       " ('2100001100000111011', 1),\n",
       " ('0010010011101000001', 1),\n",
       " ('1002001110011001001', 1),\n",
       " ('2110000011100111010', 1),\n",
       " ('2102100201001010111', 1),\n",
       " ('2001101200000101000', 1),\n",
       " ('1011010001100011010', 1),\n",
       " ('1001101100001001011', 1),\n",
       " ('0012101111011110001', 1),\n",
       " ('2112001011000001001', 1),\n",
       " ('0112000000120010001', 1),\n",
       " ('0002001211100010111', 1),\n",
       " ('2111000210000110110', 1),\n",
       " ('1002011110101100111', 1),\n",
       " ('2002011101011100111', 1),\n",
       " ('0011000000120001000', 1),\n",
       " ('1100000111020010110', 1),\n",
       " ('2000000211000001000', 1),\n",
       " ('2102100201111000111', 1),\n",
       " ('2011101200010110101', 1),\n",
       " ('0000100110101010001', 1),\n",
       " ('2112101111120110100', 1),\n",
       " ('0001100101110000101', 1),\n",
       " ('2110101201111010100', 1),\n",
       " ('1112000001120100010', 1),\n",
       " ('1110100200001000100', 1),\n",
       " ('2011100200001111000', 1),\n",
       " ('1112010210010111010', 1),\n",
       " ('2102100101100110111', 1),\n",
       " ('0100100001100110011', 1),\n",
       " ('2100100111020011000', 1),\n",
       " ('2011011211000010101', 1),\n",
       " ('0111001000121011001', 1),\n",
       " ('1000000001020011011', 1),\n",
       " ('2101001210020101000', 1),\n",
       " ('2012011000100011011', 1),\n",
       " ('1012011200021000000', 1),\n",
       " ('2112000210021001000', 1),\n",
       " ('1012010101121010111', 1),\n",
       " ('2002011201111110111', 1),\n",
       " ('0012100111110010100', 1),\n",
       " ('1102001110011010011', 1),\n",
       " ('0100010000110111000', 1),\n",
       " ('2100101200021010101', 1),\n",
       " ('0011000200110010111', 1),\n",
       " ('2100010010121000000', 1),\n",
       " ('0000000010121110010', 1),\n",
       " ('2110011200001010011', 1),\n",
       " ('2112011010121101001', 1),\n",
       " ('1010100011001010000', 1),\n",
       " ('2011010211100101001', 1),\n",
       " ('2010001111120110000', 1),\n",
       " ('0110100201001000111', 1),\n",
       " ('1001010010120110011', 1),\n",
       " ('1002001211011010111', 1),\n",
       " ('0012001001111001011', 1),\n",
       " ('2001100211120000111', 1),\n",
       " ('0100010201110011000', 1),\n",
       " ('2111101201001001000', 1),\n",
       " ('0100001110001000101', 1),\n",
       " ('2111011211020000001', 1),\n",
       " ('0112000201020110000', 1),\n",
       " ('0001011011010010111', 1),\n",
       " ('0100001011111000100', 1),\n",
       " ('2011101201121111000', 1),\n",
       " ('0011100200001000100', 1),\n",
       " ('1000010210111000101', 1),\n",
       " ('1012101200000110110', 1),\n",
       " ('1112001011021000101', 1),\n",
       " ('0000100010000000110', 1),\n",
       " ('0102100010021010010', 1),\n",
       " ('1112101210110000110', 1),\n",
       " ('1001100211100100000', 1),\n",
       " ('1000100110101110011', 1),\n",
       " ('2111010100110101011', 1),\n",
       " ('2000100110021010001', 1),\n",
       " ('2011100101111000001', 1),\n",
       " ('0011101001001100110', 1),\n",
       " ('1102011211101010011', 1),\n",
       " ('1001011000020101011', 1),\n",
       " ('0100101011101110011', 1),\n",
       " ('1111010211011111011', 1),\n",
       " ('0100011100021100111', 1),\n",
       " ('2011000111120001011', 1),\n",
       " ('1112000000001100001', 1),\n",
       " ('2002000200020111010', 1),\n",
       " ('1100000200001101011', 1),\n",
       " ('0100101100111000011', 1),\n",
       " ('1000100111020100111', 1),\n",
       " ('0112101211100101001', 1),\n",
       " ('0111000101020111011', 1),\n",
       " ('2100001110000100111', 1),\n",
       " ('2000100110000011000', 1),\n",
       " ('1001100210111010010', 1),\n",
       " ('2100001211101110110', 1),\n",
       " ('2002100211000101010', 1),\n",
       " ('1000010101021010011', 1),\n",
       " ('2102011100020010100', 1),\n",
       " ('0010000210121110110', 1),\n",
       " ('1011011110100110110', 1),\n",
       " ('2001011211020001011', 1),\n",
       " ('1000000000111011011', 1),\n",
       " ('2001100201000101000', 1),\n",
       " ('1100101101020100110', 1),\n",
       " ('2101101000021010101', 1),\n",
       " ('1011010200121000111', 1),\n",
       " ('2001100101001000110', 1),\n",
       " ('1100001211120101000', 1),\n",
       " ('2001100211000010111', 1),\n",
       " ('0002001011011000010', 1),\n",
       " ('2012011001110010001', 1),\n",
       " ('2101000000011000110', 1),\n",
       " ('0000011210001000101', 1),\n",
       " ('2112001001110110101', 1),\n",
       " ('2102010201021010110', 1),\n",
       " ('1012100100020000100', 1),\n",
       " ('1010100011010110010', 1),\n",
       " ('2101001110020000001', 1),\n",
       " ('1100101110110110001', 1),\n",
       " ('2102011201010100000', 1),\n",
       " ('1100100000121110100', 1),\n",
       " ('0112001011101001001', 1),\n",
       " ('2101000010111000111', 1),\n",
       " ('2110101011110000101', 1),\n",
       " ('2002001201101001011', 1),\n",
       " ('0011100101001000011', 1),\n",
       " ('1001010000000000101', 1),\n",
       " ('2102001101021000000', 1),\n",
       " ('0102101201100001000', 1),\n",
       " ('1112010101120110110', 1),\n",
       " ('1002001101120000100', 1),\n",
       " ('0011010201121011001', 1),\n",
       " ('1012011210121011000', 1),\n",
       " ('0011000201021000011', 1),\n",
       " ('1101000110021010101', 1),\n",
       " ('2002010011120110010', 1),\n",
       " ('0010010111000100101', 1),\n",
       " ('1012011111120100110', 1),\n",
       " ('0000010000001000000', 1),\n",
       " ('0110001110111010101', 1),\n",
       " ('2010010211021100100', 1),\n",
       " ('0101001111111100001', 1),\n",
       " ('2000010010120010100', 1),\n",
       " ('0012001201120000110', 1),\n",
       " ('1000100211011100110', 1),\n",
       " ('1112101210011000011', 1),\n",
       " ('2011101000101011010', 1),\n",
       " ('1012100200121000100', 1),\n",
       " ('1101101111001111001', 1),\n",
       " ('0011010210001111000', 1),\n",
       " ('0011100200021110100', 1),\n",
       " ('2010010001020110111', 1),\n",
       " ('2011010111020010101', 1),\n",
       " ('2111001201000100110', 1),\n",
       " ('1010010210010011000', 1),\n",
       " ('1001100201000000001', 1),\n",
       " ('2101101000000100011', 1),\n",
       " ('0101001110021100101', 1),\n",
       " ('0010001101000001001', 1),\n",
       " ('1010001111020110111', 1),\n",
       " ('2000011201011100001', 1),\n",
       " ('0002001000120010110', 1),\n",
       " ('0101010001100101000', 1),\n",
       " ('1012000211121001010', 1),\n",
       " ('2010011011000001011', 1),\n",
       " ('1010010201011101000', 1),\n",
       " ('0100000011020111000', 1),\n",
       " ('2100100000021111000', 1),\n",
       " ('2111101211110111000', 1),\n",
       " ('2102000001121111011', 1),\n",
       " ('2012011001010111001', 1),\n",
       " ('0001100101001101011', 1),\n",
       " ('2010000210021100111', 1)]"
      ]
     },
     "execution_count": 189,
     "metadata": {},
     "output_type": "execute_result"
    }
   ],
   "source": [
    "final_dist = Counter(good)\n",
    "print(len(final_dist))\n",
    "final_dist.most_common(200)"
   ]
  },
  {
   "cell_type": "code",
   "execution_count": 190,
   "id": "legitimate-waters",
   "metadata": {},
   "outputs": [],
   "source": [
    "with open(\"c9r2-ins_counts.csv\", mode='w') as outfile:\n",
    "    for item in element_counts:\n",
    "        if item[7] == 0 or item[8] == 0:\n",
    "            print(\"\".join(map(str, item)), element_counts[item], sep=',', file=outfile)"
   ]
  },
  {
   "cell_type": "code",
   "execution_count": 191,
   "id": "incredible-carrier",
   "metadata": {},
   "outputs": [
    {
     "data": {
      "text/plain": [
       "7233"
      ]
     },
     "execution_count": 191,
     "metadata": {},
     "output_type": "execute_result"
    }
   ],
   "source": [
    "sum([element_counts[item] > 0 for item in element_counts])"
   ]
  },
  {
   "cell_type": "code",
   "execution_count": 87,
   "id": "pointed-mailing",
   "metadata": {},
   "outputs": [
    {
     "ename": "NameError",
     "evalue": "name 'pre_final_dist' is not defined",
     "output_type": "error",
     "traceback": [
      "\u001b[0;31m---------------------------------------------------------------------------\u001b[0m",
      "\u001b[0;31mNameError\u001b[0m                                 Traceback (most recent call last)",
      "\u001b[0;32m<ipython-input-87-0ee1abd2aa1e>\u001b[0m in \u001b[0;36m<module>\u001b[0;34m\u001b[0m\n\u001b[1;32m      1\u001b[0m \u001b[0mfreq_post\u001b[0m \u001b[0;34m=\u001b[0m \u001b[0;34m{\u001b[0m\u001b[0mk\u001b[0m\u001b[0;34m:\u001b[0m \u001b[0mfinal_dist\u001b[0m\u001b[0;34m[\u001b[0m\u001b[0mk\u001b[0m\u001b[0;34m]\u001b[0m\u001b[0;34m/\u001b[0m\u001b[0mlen\u001b[0m\u001b[0;34m(\u001b[0m\u001b[0mgood\u001b[0m\u001b[0;34m)\u001b[0m \u001b[0;32mfor\u001b[0m \u001b[0mk\u001b[0m \u001b[0;32min\u001b[0m \u001b[0mfinal_dist\u001b[0m\u001b[0;34m}\u001b[0m\u001b[0;34m\u001b[0m\u001b[0;34m\u001b[0m\u001b[0m\n\u001b[0;32m----> 2\u001b[0;31m \u001b[0mfreq_pre\u001b[0m \u001b[0;34m=\u001b[0m \u001b[0;34m{\u001b[0m\u001b[0mk\u001b[0m\u001b[0;34m:\u001b[0m \u001b[0mpre_final_dist\u001b[0m\u001b[0;34m[\u001b[0m\u001b[0mk\u001b[0m\u001b[0;34m]\u001b[0m\u001b[0;34m/\u001b[0m\u001b[0msum\u001b[0m\u001b[0;34m(\u001b[0m\u001b[0mpre_final_dist\u001b[0m\u001b[0;34m.\u001b[0m\u001b[0mvalues\u001b[0m\u001b[0;34m(\u001b[0m\u001b[0;34m)\u001b[0m\u001b[0;34m)\u001b[0m \u001b[0;32mfor\u001b[0m \u001b[0mk\u001b[0m \u001b[0;32min\u001b[0m \u001b[0mfinal_dist\u001b[0m\u001b[0;34m}\u001b[0m\u001b[0;34m\u001b[0m\u001b[0;34m\u001b[0m\u001b[0m\n\u001b[0m",
      "\u001b[0;32m<ipython-input-87-0ee1abd2aa1e>\u001b[0m in \u001b[0;36m<dictcomp>\u001b[0;34m(.0)\u001b[0m\n\u001b[1;32m      1\u001b[0m \u001b[0mfreq_post\u001b[0m \u001b[0;34m=\u001b[0m \u001b[0;34m{\u001b[0m\u001b[0mk\u001b[0m\u001b[0;34m:\u001b[0m \u001b[0mfinal_dist\u001b[0m\u001b[0;34m[\u001b[0m\u001b[0mk\u001b[0m\u001b[0;34m]\u001b[0m\u001b[0;34m/\u001b[0m\u001b[0mlen\u001b[0m\u001b[0;34m(\u001b[0m\u001b[0mgood\u001b[0m\u001b[0;34m)\u001b[0m \u001b[0;32mfor\u001b[0m \u001b[0mk\u001b[0m \u001b[0;32min\u001b[0m \u001b[0mfinal_dist\u001b[0m\u001b[0;34m}\u001b[0m\u001b[0;34m\u001b[0m\u001b[0;34m\u001b[0m\u001b[0m\n\u001b[0;32m----> 2\u001b[0;31m \u001b[0mfreq_pre\u001b[0m \u001b[0;34m=\u001b[0m \u001b[0;34m{\u001b[0m\u001b[0mk\u001b[0m\u001b[0;34m:\u001b[0m \u001b[0mpre_final_dist\u001b[0m\u001b[0;34m[\u001b[0m\u001b[0mk\u001b[0m\u001b[0;34m]\u001b[0m\u001b[0;34m/\u001b[0m\u001b[0msum\u001b[0m\u001b[0;34m(\u001b[0m\u001b[0mpre_final_dist\u001b[0m\u001b[0;34m.\u001b[0m\u001b[0mvalues\u001b[0m\u001b[0;34m(\u001b[0m\u001b[0;34m)\u001b[0m\u001b[0;34m)\u001b[0m \u001b[0;32mfor\u001b[0m \u001b[0mk\u001b[0m \u001b[0;32min\u001b[0m \u001b[0mfinal_dist\u001b[0m\u001b[0;34m}\u001b[0m\u001b[0;34m\u001b[0m\u001b[0;34m\u001b[0m\u001b[0m\n\u001b[0m",
      "\u001b[0;31mNameError\u001b[0m: name 'pre_final_dist' is not defined"
     ]
    }
   ],
   "source": [
    "freq_post = {k: final_dist[k]/len(good) for k in final_dist}\n",
    "freq_pre = {k: pre_final_dist[k]/sum(pre_final_dist.values()) for k in final_dist}"
   ]
  },
  {
   "cell_type": "code",
   "execution_count": 465,
   "id": "express-amsterdam",
   "metadata": {},
   "outputs": [],
   "source": [
    "with open(\"hits_r2.csv\",  mode='w') as outfile:\n",
    "    print(\"genotype,pre_freq,pre_n,post_freq,post_n,fold_change\", file=outfile)\n",
    "    for k in freq_pre:\n",
    "        #k = \"\".join(map(str, item))\n",
    "        pre = True\n",
    "        post = True\n",
    "        try:\n",
    "            pre_n = pre_final_dist[k]\n",
    "            pre_freq = freq_pre[k]\n",
    "        except KeyError:\n",
    "            pre_n = 0\n",
    "            pre_freq = 0\n",
    "            pre = False\n",
    "        try:\n",
    "            post_freq = freq_post[k]\n",
    "            post_n = final_dist[k]\n",
    "        except KeyError:\n",
    "            post_freq = 0\n",
    "            post_n = 0\n",
    "            post = False\n",
    "        if not pre:\n",
    "            change = 'nan'\n",
    "        elif not post:\n",
    "            change = 0\n",
    "        else:\n",
    "            try:\n",
    "                change = freq_post[k]/freq_pre[k]\n",
    "            except ZeroDivisionError:\n",
    "                change = 'nan'\n",
    "        print(f'N-{k}', pre_freq, pre_n, post_freq, post_n, change, sep=',', file=outfile)\n",
    "\n",
    "#change = {k: (freq_post[k]-freq_pre[k])/(freq_pre[k]+10**-8) for k in freq_post}\n",
    "#change"
   ]
  },
  {
   "cell_type": "code",
   "execution_count": 201,
   "id": "ruled-pension",
   "metadata": {},
   "outputs": [
    {
     "data": {
      "image/png": "[encoded data removed]",
      "text/plain": [
       "<Figure size 432x288 with 1 Axes>"
      ]
     },
     "metadata": {
      "needs_background": "light"
     },
     "output_type": "display_data"
    }
   ],
   "source": [
    "plt.hist(final_dist.values(), bins=[1,100,200,300,400,500,600,700,800,900,1000,1100,1200,1300,1400,1500])\n",
    "plt.yscale('log', nonpositive='clip')\n",
    "#plt.xscale('log', nonposx='clip')\n",
    "plt.xlim((0,1500))\n",
    "plt.show()"
   ]
  },
  {
   "cell_type": "code",
   "execution_count": 203,
   "id": "annual-sewing",
   "metadata": {},
   "outputs": [],
   "source": [
    "dist_values = list(sorted(final_dist.values(), reverse=True))\n",
    "for i in range(150):\n",
    "    dist_values[i] *= 0.1"
   ]
  },
  {
   "cell_type": "code",
   "execution_count": 204,
   "id": "tight-payroll",
   "metadata": {},
   "outputs": [
    {
     "name": "stderr",
     "output_type": "stream",
     "text": [
      "<ipython-input-204-23caeed00424>:6: UserWarning: Attempted to set non-positive left xlim on a log-scaled axis.\n",
      "Invalid limit will be ignored.\n",
      "  plt.xlim((0,10**3.5))\n"
     ]
    },
    {
     "data": {
      "image/png": "[encoded data removed]",
      "text/plain": [
       "<Figure size 432x288 with 1 Axes>"
      ]
     },
     "metadata": {
      "needs_background": "light"
     },
     "output_type": "display_data"
    }
   ],
   "source": [
    "import numpy as np\n",
    "\n",
    "plt.hist(dist_values, bins=np.logspace(0,3.5,20))\n",
    "plt.yscale('log')\n",
    "plt.xscale('log')\n",
    "plt.xlim((0,10**3.5))\n",
    "#plt.ylim((0,400000))\n",
    "plt.show()"
   ]
  },
  {
   "cell_type": "code",
   "execution_count": 192,
   "id": "declared-oxide",
   "metadata": {},
   "outputs": [
    {
     "data": {
      "text/plain": [
       "[((2, 1, 1, 1, 0, 1, 0, 0, 1, 0, 1, 0, 0, 1, 1, 1, 0, 1, 1), 2),\n",
       " ((2, 1, 0, 1, 1, 0, 0, 0, 1, 1, 0, 1, 1, 1, 1, 0, 0, 1, 1), 2),\n",
       " ((2, 1, 1, 1, 0, 0, 1, 0, 0, 1, 0, 2, 0, 1, 1, 0, 1, 1, 0), 2),\n",
       " ((2, 1, 0, 2, 1, 0, 1, 1, 1, 1, 1, 2, 1, 1, 1, 0, 0, 0, 1), 2),\n",
       " ((2, 1, 0, 0, 0, 0, 1, 0, 1, 1, 1, 1, 1, 1, 1, 1, 0, 0, 1), 2)]"
      ]
     },
     "execution_count": 192,
     "metadata": {},
     "output_type": "execute_result"
    }
   ],
   "source": [
    "from random import choice\n",
    "\n",
    "options = list(element_counts.keys())\n",
    "sub_options = options[:1490000]\n",
    "n = len(good)\n",
    "theo = [choice(options) for i in range(n)]\n",
    "theo_dist = Counter(theo)\n",
    "\n",
    "theo_dist.most_common(5)"
   ]
  },
  {
   "cell_type": "code",
   "execution_count": 205,
   "id": "chronic-immigration",
   "metadata": {},
   "outputs": [
    {
     "name": "stderr",
     "output_type": "stream",
     "text": [
      "<ipython-input-205-3a7348df48f4>:4: UserWarning: Attempted to set non-positive left xlim on a log-scaled axis.\n",
      "Invalid limit will be ignored.\n",
      "  plt.xlim((0,10**3.5))\n"
     ]
    },
    {
     "data": {
      "image/png": "[encoded data removed]",
      "text/plain": [
       "<Figure size 432x288 with 1 Axes>"
      ]
     },
     "metadata": {
      "needs_background": "light"
     },
     "output_type": "display_data"
    }
   ],
   "source": [
    "plt.hist(theo_dist.values(), bins=np.logspace(0,3.5,20), color='orange')\n",
    "plt.yscale('log')\n",
    "plt.xscale('log')\n",
    "plt.xlim((0,10**3.5))\n",
    "#plt.ylim((0,400000))\n",
    "plt.show()"
   ]
  },
  {
   "cell_type": "code",
   "execution_count": 193,
   "id": "designing-cookie",
   "metadata": {},
   "outputs": [],
   "source": [
    "number_data = Counter([sum([x != '0' for x in y]) for y in good])\n",
    "sum(number_data.values())\n",
    "theo_number = Counter([sum([x != 0 for x in y]) for y in theo])"
   ]
  },
  {
   "cell_type": "code",
   "execution_count": 135,
   "id": "under-feature",
   "metadata": {},
   "outputs": [
    {
     "data": {
      "text/plain": [
       "23656.0"
      ]
     },
     "execution_count": 135,
     "metadata": {},
     "output_type": "execute_result"
    }
   ],
   "source": [
    "number_data[0] -= 3800/5\n",
    "number_data[1] -= 3200/5\n",
    "number_data[2] -= 1200/5\n",
    "number_data[3] -= 500/5\n",
    "number_data[4] -= 100/5\n",
    "for i in range(5,18):\n",
    "    number_data[i] = round(number_data[i] * (1.25), 0)\n",
    "\n",
    "sum(number_data.values())"
   ]
  },
  {
   "cell_type": "code",
   "execution_count": 194,
   "id": "invalid-fishing",
   "metadata": {
    "scrolled": true
   },
   "outputs": [
    {
     "data": {
      "text/plain": [
       "Counter({11: 1016,\n",
       "         9: 1363,\n",
       "         7: 669,\n",
       "         10: 1359,\n",
       "         12: 638,\n",
       "         5: 129,\n",
       "         14: 94,\n",
       "         8: 1061,\n",
       "         13: 330,\n",
       "         6: 326,\n",
       "         4: 35,\n",
       "         15: 31,\n",
       "         2: 3,\n",
       "         3: 9,\n",
       "         16: 4})"
      ]
     },
     "execution_count": 194,
     "metadata": {},
     "output_type": "execute_result"
    }
   ],
   "source": [
    "number_data"
   ]
  },
  {
   "cell_type": "code",
   "execution_count": 195,
   "id": "matched-monroe",
   "metadata": {},
   "outputs": [
    {
     "data": {
      "image/png": "[encoded data removed]",
      "text/plain": [
       "<Figure size 576x360 with 1 Axes>"
      ]
     },
     "metadata": {
      "needs_background": "light"
     },
     "output_type": "display_data"
    }
   ],
   "source": [
    "x = range(19)\n",
    "y = [number_data[i] for i in x]\n",
    "theo_y = [theo_number[i] for i in x]\n",
    "\n",
    "fig, ax = plt.subplots(figsize=(8,5))\n",
    "\n",
    "plt.plot(x, y)\n",
    "plt.plot(x, theo_y)\n",
    "plt.legend(labels=(\"observed\", \"theoretical\"), fontsize='large')\n",
    "plt.xlim((0,18))\n",
    "plt.show()"
   ]
  },
  {
   "cell_type": "code",
   "execution_count": 381,
   "id": "conventional-activation",
   "metadata": {},
   "outputs": [],
   "source": [
    "plt.legend?"
   ]
  },
  {
   "cell_type": "code",
   "execution_count": 196,
   "id": "expected-massage",
   "metadata": {},
   "outputs": [
    {
     "name": "stdout",
     "output_type": "stream",
     "text": [
      "block1: (0, 0, 0) 512\n",
      "block1: (0, 0, 1) 646\n",
      "block1: (0, 1, 0) 532\n",
      "block1: (0, 1, 1) 624\n",
      "block1: (1, 0, 0) 530\n",
      "block1: (1, 0, 1) 701\n",
      "block1: (1, 1, 0) 477\n",
      "block1: (1, 1, 1) 501\n",
      "block1: (2, 0, 0) 585\n",
      "block1: (2, 0, 1) 723\n",
      "block1: (2, 1, 0) 595\n",
      "block1: (2, 1, 1) 641\n",
      "\n",
      "block2: (0, 0, 0) 832\n",
      "block2: (0, 0, 1) 879\n",
      "block2: (0, 1, 0) 744\n",
      "block2: (0, 1, 1) 0\n",
      "block2: (1, 0, 0) 705\n",
      "block2: (1, 0, 1) 834\n",
      "block2: (1, 1, 0) 705\n",
      "block2: (1, 1, 1) 0\n",
      "block2: (2, 0, 0) 838\n",
      "block2: (2, 0, 1) 817\n",
      "block2: (2, 1, 0) 713\n",
      "block2: (2, 1, 1) 0\n",
      "\n",
      "block3: (0, 0) 1251\n",
      "block3: (0, 1) 1269\n",
      "block3: (0, 2) 1399\n",
      "block3: (1, 0) 947\n",
      "block3: (1, 1) 1039\n",
      "block3: (1, 2) 1162\n",
      "\n",
      "block4: (0, 0) 1749\n",
      "block4: (0, 1) 1719\n",
      "block4: (1, 0) 1786\n",
      "block4: (1, 1) 1813\n",
      "\n",
      "block5: (0, 0) 1504\n",
      "block5: (0, 1) 1263\n",
      "block5: (0, 2) 1215\n",
      "block5: (1, 0) 1074\n",
      "block5: (1, 1) 989\n",
      "block5: (1, 2) 1022\n",
      "\n",
      "block6: (0, 0) 1709\n",
      "block6: (0, 1) 1679\n",
      "block6: (1, 0) 1977\n",
      "block6: (1, 1) 1702\n",
      "\n",
      "block7: (0, 0, 0) 1068\n",
      "block7: (0, 0, 1) 1297\n",
      "block7: (0, 1, 0) 1191\n",
      "block7: (0, 1, 1) 0\n",
      "block7: (1, 0, 0) 920\n",
      "block7: (1, 0, 1) 1377\n",
      "block7: (1, 1, 0) 1214\n",
      "block7: (1, 1, 1) 0\n",
      "\n",
      "block8: (0, 0) 2046\n",
      "block8: (0, 1) 1282\n",
      "block8: (1, 0) 1626\n",
      "block8: (1, 1) 2113\n",
      "\n",
      "Total mutants detected: 7042\n"
     ]
    }
   ],
   "source": [
    "import itertools\n",
    "\n",
    "block_data = []\n",
    "element_counts = final_dist\n",
    "\n",
    "block_data.append(list())\n",
    "for item in itertools.product(*(range(len(i)) for i in cas9_mutations[:3])):\n",
    "    point = sum([element_counts[x] for x in element_counts if x[:3]==\"\".join(map(str, item))])\n",
    "    block_data[0].append(point)\n",
    "    print(f\"block1: {item}\", point)\n",
    "print()\n",
    "block_data.append(list())\n",
    "for item in itertools.product(*(range(len(i)) for i in cas9_mutations[3:6])):\n",
    "    point = sum([element_counts[x] for x in element_counts if x[3:6]==\"\".join(map(str, item))])\n",
    "    block_data[1].append(point)\n",
    "    print(f\"block2: {item}\", point)\n",
    "print()\n",
    "block_data.append(list())\n",
    "for item in itertools.product(*(range(len(i)) for i in cas9_mutations[6:8])):\n",
    "    point = sum([element_counts[x] for x in element_counts if x[6:8]==\"\".join(map(str, item))])\n",
    "    block_data[2].append(point)\n",
    "    print(f\"block3: {item}\", point)\n",
    "print()\n",
    "block_data.append(list())\n",
    "for item in itertools.product(*(range(len(i)) for i in cas9_mutations[8:10])):\n",
    "    point = sum([element_counts[x] for x in element_counts if x[8:10]==\"\".join(map(str, item))])\n",
    "    if item not in []:\n",
    "        block_data[3].append(point)\n",
    "        print(f\"block4: {item}\", sum([element_counts[x] for x in element_counts if x[8:10]==\"\".join(map(str, item))]))\n",
    "print()\n",
    "block_data.append(list())\n",
    "for item in itertools.product(*(range(len(i)) for i in cas9_mutations[10:12])):\n",
    "    point = sum([element_counts[x] for x in element_counts if x[10:12]==\"\".join(map(str, item))])\n",
    "    block_data[4].append(point)\n",
    "    print(f\"block5: {item}\", point)\n",
    "print()\n",
    "block_data.append(list())\n",
    "for item in itertools.product(*(range(len(i)) for i in cas9_mutations[12:14])):\n",
    "    point = sum([element_counts[x] for x in element_counts if x[12:14]==\"\".join(map(str, item))])\n",
    "    block_data[5].append(point)\n",
    "    print(f\"block6: {item}\", point)\n",
    "print()\n",
    "block_data.append(list())\n",
    "for item in itertools.product(*(range(len(i)) for i in cas9_mutations[14:17])):\n",
    "    point = sum([element_counts[x] for x in element_counts if x[14:17]==\"\".join(map(str, item))])\n",
    "    block_data[6].append(point)\n",
    "    print(f\"block7: {item}\", point)\n",
    "print()\n",
    "block_data.append(list())\n",
    "for item in itertools.product(*(range(len(i)) for i in cas9_mutations[17:])):\n",
    "    point = sum([element_counts[x] for x in element_counts if x[17:]==\"\".join(map(str, item))])\n",
    "    block_data[7].append(point)\n",
    "    print(f\"block8: {item}\", point)\n",
    "print()\n",
    "print(f\"Total mutants detected: {len(final_dist)}\")"
   ]
  },
  {
   "cell_type": "code",
   "execution_count": 197,
   "id": "urban-valve",
   "metadata": {},
   "outputs": [
    {
     "data": {
      "image/png": "[encoded data removed]",
      "text/plain": [
       "<Figure size 1440x720 with 8 Axes>"
      ]
     },
     "metadata": {},
     "output_type": "display_data"
    }
   ],
   "source": [
    "fig, axes = plt.subplots(nrows=1,ncols=8,figsize=(20,10))\n",
    "for i, block in enumerate(block_data):\n",
    "    axes[i].pie(block)"
   ]
  },
  {
   "cell_type": "code",
   "execution_count": 466,
   "id": "fatty-island",
   "metadata": {},
   "outputs": [
    {
     "data": {
      "text/plain": [
       "([<matplotlib.patches.Wedge at 0x7fd2b390d040>,\n",
       "  <matplotlib.patches.Wedge at 0x7fd2b390d520>],\n",
       " [Text(0.03455180204558485, 1.0994572174374968, ''),\n",
       "  Text(-0.03455180204558498, -1.0994572174374968, '')])"
      ]
     },
     "execution_count": 466,
     "metadata": {},
     "output_type": "execute_result"
    },
    {
     "data": {
      "image/png": "[encoded data removed]",
      "text/plain": [
       "<Figure size 432x288 with 1 Axes>"
      ]
     },
     "metadata": {},
     "output_type": "display_data"
    }
   ],
   "source": [
    "plt.pie([49,51])"
   ]
  },
  {
   "cell_type": "code",
   "execution_count": 390,
   "id": "nervous-british",
   "metadata": {},
   "outputs": [],
   "source": [
    "pre_final_dist = final_dist"
   ]
  },
  {
   "cell_type": "code",
   "execution_count": 410,
   "id": "comparable-latter",
   "metadata": {},
   "outputs": [
    {
     "data": {
      "text/plain": [
       "22997"
      ]
     },
     "execution_count": 410,
     "metadata": {},
     "output_type": "execute_result"
    }
   ],
   "source": [
    "pre_final_dist['000000000000000000']"
   ]
  },
  {
   "cell_type": "code",
   "execution_count": 154,
   "id": "interim-explorer",
   "metadata": {},
   "outputs": [
    {
     "name": "stdout",
     "output_type": "stream",
     "text": [
      "1k-mutations.csv                  LV2-C9lib.fasta\r\n",
      "C9-1k.paf                         LV2-cas9-n-reference.fasta\r\n",
      "C9-r2-ref.fasta                   LV2-mutant-cas9-reference.fasta\r\n",
      "C9LE3-mini-mutant-mutations.csv   Untitled.ipynb\r\n",
      "C9LE3-mini-mutant.paf             Untitled1.ipynb\r\n",
      "C9LE3-mini-mutant_count-file.csv  \u001b[34m__pycache__\u001b[m\u001b[m/\r\n",
      "C9LE3-mini-n-mutations.csv        all_elements_r1.csv\r\n",
      "C9LE3-mini-n_count-file.csv       \u001b[34mcs-align-tests\u001b[m\u001b[m/\r\n",
      "C9LE3_count_file.csv              hits.csv\r\n",
      "C9LE3_perfect_count_file.csv      hits_r1-x.xlsx\r\n",
      "C9r2-pre-N.paf                    hits_r1.csv\r\n",
      "C9r2-pre.paf                      hits_r2.csv\r\n",
      "Cas9-post-r1-mutations.csv        main.py\r\n",
      "Cas9-post-r1-n-1.paf              mini_n.paf\r\n",
      "Cas9-post-r1-n-mutations.csv      minion_hits-1a.csv\r\n",
      "Cas9-post-r1-n_count-file.csv     minion_hits.csv\r\n",
      "Cas9-post-r1.paf                  \u001b[34mpost\u001b[m\u001b[m/\r\n",
      "Cas9-post-r1_count-file.csv       pre-1a.csv\r\n",
      "Cas9-post-r2-mutations.csv        pre-counts-1a.csv\r\n",
      "Cas9-post-r2-n-1.paf              pre-r2a.csv\r\n",
      "Cas9-post-r2-n-mutations.csv      pre-r2a_counts.csv\r\n",
      "Cas9-post-r2-n_count-file.csv     pre-r2a_r1muts.csv\r\n",
      "Cas9-post-r2.paf                  pre-r2a_r1muts_counts.csv\r\n",
      "Cas9-post-r2_count-file.csv       pre-r2b_counts.csv\r\n"
     ]
    }
   ],
   "source": [
    "ls"
   ]
  },
  {
   "cell_type": "code",
   "execution_count": 157,
   "id": "promotional-carol",
   "metadata": {},
   "outputs": [],
   "source": [
    "with open(\"pre-r2a_r1muts_counts.csv\") as infile:\n",
    "    data = infile.readlines()\n",
    "    \n",
    "counts = {x.split(\",\")[0]: int(x.split(\",\")[1]) for x in data}"
   ]
  },
  {
   "cell_type": "code",
   "execution_count": 170,
   "id": "subjective-citation",
   "metadata": {},
   "outputs": [
    {
     "data": {
      "text/plain": [
       "{'001010101002101010': 52,\n",
       " '001010101002121010': 52,\n",
       " '001210101002101010': 18,\n",
       " '001210101002121010': 22,\n",
       " '100000001000000010': 92,\n",
       " '100000001000001010': 40,\n",
       " '100000001000100010': 17,\n",
       " '100000001000101010': 14,\n",
       " '100000001002000010': 17,\n",
       " '100000101000000010': 17,\n",
       " '100010101002101010': 18,\n",
       " '100010101002121010': 34,\n",
       " '100210101002101010': 11,\n",
       " '100210101002121010': 11,\n",
       " '101000001000000010': 12,\n",
       " '101000101002101010': 46,\n",
       " '101000101002121010': 52,\n",
       " '101010100002101010': 39,\n",
       " '101010100002121010': 35,\n",
       " '101010101000000010': 27,\n",
       " '101010101000101010': 11,\n",
       " '101010101002000010': 28,\n",
       " '101010101002001010': 30,\n",
       " '101010101002021010': 18,\n",
       " '101010101002100010': 148,\n",
       " '101010101002101000': 28,\n",
       " '101010101002101010': 9145,\n",
       " '101010101002101011': 30,\n",
       " '101010101002101020': 26,\n",
       " '101010101002111010': 776,\n",
       " '101010101002120010': 56,\n",
       " '101010101002121000': 23,\n",
       " '101010101002121010': 9634,\n",
       " '101010101002121011': 25,\n",
       " '101010101002121020': 25,\n",
       " '101010101012101010': 81,\n",
       " '101010101012121010': 97,\n",
       " '101010101102121010': 19,\n",
       " '101011101002101010': 164,\n",
       " '101011101002121010': 154,\n",
       " '101110101002101010': 200,\n",
       " '101110101002111010': 32,\n",
       " '101110101002121010': 206,\n",
       " '101200101002101010': 23,\n",
       " '101200101002121010': 20,\n",
       " '101210100002101010': 15,\n",
       " '101210100002121010': 21,\n",
       " '101210101000000010': 12,\n",
       " '101210101002000010': 11,\n",
       " '101210101002001010': 16,\n",
       " '101210101002100010': 61,\n",
       " '101210101002101010': 4154,\n",
       " '101210101002101020': 13,\n",
       " '101210101002111010': 310,\n",
       " '101210101002120010': 22,\n",
       " '101210101002121010': 4181,\n",
       " '101210101012101010': 38,\n",
       " '101210101012121010': 42,\n",
       " '101210101102101010': 13,\n",
       " '101211101002101010': 63,\n",
       " '101211101002121010': 65,\n",
       " '111010101002121010': 11}"
      ]
     },
     "execution_count": 170,
     "metadata": {},
     "output_type": "execute_result"
    }
   ],
   "source": [
    "{k: counts[k] for k in counts if counts[k]>10}"
   ]
  },
  {
   "cell_type": "code",
   "execution_count": 3,
   "id": "grand-physiology",
   "metadata": {},
   "outputs": [
    {
     "data": {
      "text/html": [
       "<div>\n",
       "<style scoped>\n",
       "    .dataframe tbody tr th:only-of-type {\n",
       "        vertical-align: middle;\n",
       "    }\n",
       "\n",
       "    .dataframe tbody tr th {\n",
       "        vertical-align: top;\n",
       "    }\n",
       "\n",
       "    .dataframe thead th {\n",
       "        text-align: right;\n",
       "    }\n",
       "</style>\n",
       "<table border=\"1\" class=\"dataframe\">\n",
       "  <thead>\n",
       "    <tr style=\"text-align: right;\">\n",
       "      <th></th>\n",
       "      <th>a</th>\n",
       "      <th>s</th>\n",
       "      <th>d</th>\n",
       "      <th>f</th>\n",
       "    </tr>\n",
       "  </thead>\n",
       "  <tbody>\n",
       "    <tr>\n",
       "      <th>a</th>\n",
       "      <td>NaN</td>\n",
       "      <td>NaN</td>\n",
       "      <td>NaN</td>\n",
       "      <td>NaN</td>\n",
       "    </tr>\n",
       "    <tr>\n",
       "      <th>s</th>\n",
       "      <td>NaN</td>\n",
       "      <td>NaN</td>\n",
       "      <td>NaN</td>\n",
       "      <td>NaN</td>\n",
       "    </tr>\n",
       "    <tr>\n",
       "      <th>d</th>\n",
       "      <td>NaN</td>\n",
       "      <td>NaN</td>\n",
       "      <td>NaN</td>\n",
       "      <td>NaN</td>\n",
       "    </tr>\n",
       "    <tr>\n",
       "      <th>f</th>\n",
       "      <td>NaN</td>\n",
       "      <td>NaN</td>\n",
       "      <td>NaN</td>\n",
       "      <td>NaN</td>\n",
       "    </tr>\n",
       "  </tbody>\n",
       "</table>\n",
       "</div>"
      ],
      "text/plain": [
       "     a    s    d    f\n",
       "a  NaN  NaN  NaN  NaN\n",
       "s  NaN  NaN  NaN  NaN\n",
       "d  NaN  NaN  NaN  NaN\n",
       "f  NaN  NaN  NaN  NaN"
      ]
     },
     "execution_count": 3,
     "metadata": {},
     "output_type": "execute_result"
    }
   ],
   "source": [
    "import pandas as pd\n",
    "pd.DataFrame(index=list(\"asdf\"), columns=list(\"asdf\"))"
   ]
  },
  {
   "cell_type": "code",
   "execution_count": 2,
   "id": "pressing-overhead",
   "metadata": {},
   "outputs": [
    {
     "data": {
      "text/plain": [
       "['a', 's', 'd', 'f']"
      ]
     },
     "execution_count": 2,
     "metadata": {},
     "output_type": "execute_result"
    }
   ],
   "source": [
    "list(\"asdf\")"
   ]
  },
  {
   "cell_type": "code",
   "execution_count": null,
   "id": "fatal-integration",
   "metadata": {},
   "outputs": [],
   "source": []
  }
 ],
 "metadata": {
  "kernelspec": {
   "display_name": "Python 3",
   "language": "python",
   "name": "python3"
  },
  "language_info": {
   "codemirror_mode": {
    "name": "ipython",
    "version": 3
   },
   "file_extension": ".py",
   "mimetype": "text/x-python",
   "name": "python",
   "nbconvert_exporter": "python",
   "pygments_lexer": "ipython3",
   "version": "3.8.5"
  }
 },
 "nbformat": 4,
 "nbformat_minor": 5
}
